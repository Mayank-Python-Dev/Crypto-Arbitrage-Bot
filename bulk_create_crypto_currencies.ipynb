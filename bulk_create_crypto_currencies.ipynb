{
 "cells": [
  {
   "cell_type": "code",
   "execution_count": 7,
   "id": "c05530e8",
   "metadata": {},
   "outputs": [],
   "source": [
    "import os\n",
    "import django\n",
    "os.environ.setdefault('DJANGO_SETTINGS_MODULE', 'cryptoArbitrage.settings')\n",
    "os.environ[\"DJANGO_ALLOW_ASYNC_UNSAFE\"] = \"true\"\n",
    "django.setup()"
   ]
  },
  {
   "cell_type": "code",
   "execution_count": 8,
   "id": "5345f0a8",
   "metadata": {},
   "outputs": [],
   "source": [
    "import ccxt,pandas as pd\n",
    "import numpy as np\n",
    "from core.models import (\n",
    "    Exchange,\n",
    "    CryptoCurrencyPair\n",
    ")"
   ]
  },
  {
   "cell_type": "code",
   "execution_count": 9,
   "id": "f4249c94",
   "metadata": {},
   "outputs": [],
   "source": [
    "exchange_list = [\"Binance\", \"KuCoin\", \"MEXC\", \"ByBit\", \"digifinex\", \"bitforex\", \"Kraken\", \"Phemex\", \"YoBit\"]\n",
    "exchange_list = list(map(lambda x : x.lower(),exchange_list))\n",
    "exchange_dict = {}\n",
    "for i in exchange_list:\n",
    "    try:\n",
    "        exchange_name = getattr(ccxt,i)()\n",
    "        exchange_name.load_markets()\n",
    "        exchange_dict[i] = exchange_name.symbols\n",
    "    except Exception as exception:\n",
    "        pass"
   ]
  },
  {
   "cell_type": "code",
   "execution_count": 12,
   "id": "36b005be",
   "metadata": {},
   "outputs": [],
   "source": [
    "for i in exchange_list:\n",
    "    Exchange.objects.create(name = i)"
   ]
  },
  {
   "cell_type": "code",
   "execution_count": 20,
   "id": "3f7f1fdf",
   "metadata": {},
   "outputs": [],
   "source": [
    "my_list = [i for i in exchange_dict.values()]"
   ]
  },
  {
   "cell_type": "code",
   "execution_count": 29,
   "id": "6285d786",
   "metadata": {},
   "outputs": [
    {
     "name": "stdout",
     "output_type": "stream",
     "text": [
      "2646\n",
      "1244\n",
      "2265\n",
      "405\n",
      "498\n",
      "664\n",
      "750\n"
     ]
    }
   ],
   "source": [
    "for k,v in exchange_dict.items():\n",
    "    print(len(v))"
   ]
  },
  {
   "cell_type": "code",
   "execution_count": 35,
   "id": "4f6fc563",
   "metadata": {},
   "outputs": [],
   "source": [
    "from django.db.models import OuterRef\n",
    "from django.db.models import (\n",
    "    Count,\n",
    "    F,\n",
    "    Sum,\n",
    "    OuterRef,\n",
    "    Value,\n",
    "    IntegerField,\n",
    "    Prefetch,\n",
    "    Q,\n",
    "    ExpressionWrapper,\n",
    "    functions,\n",
    "    CharField,\n",
    "    Case,\n",
    "    When\n",
    ")\n"
   ]
  },
  {
   "cell_type": "code",
   "execution_count": 40,
   "id": "36690e78",
   "metadata": {},
   "outputs": [
    {
     "data": {
      "text/plain": [
       "<QuerySet [{'count': 2646}, {'count': 1244}, {'count': 2265}, {'count': None}, {'count': 405}, {'count': 498}, {'count': 664}, {'count': 750}, {'count': None}]>"
      ]
     },
     "execution_count": 40,
     "metadata": {},
     "output_type": "execute_result"
    }
   ],
   "source": [
    "Exchange.objects.annotate(\n",
    "    count = CryptoCurrencyPair.objects.filter(\n",
    "        exchange_id = OuterRef(\"uid\")\n",
    "    ).values(\n",
    "        \"exchange_id\"\n",
    "    ).annotate(\n",
    "        count = Count(\"exchange_id\")\n",
    "    ).values(\"count\")).values(\"count\")"
   ]
  },
  {
   "cell_type": "code",
   "execution_count": 60,
   "id": "861db586",
   "metadata": {},
   "outputs": [
    {
     "data": {
      "text/plain": [
       "<QuerySet [('1000000BABYDOGE/USDT',), ('1000000 NFT/USD:USD',), ('1000000PIT/USDT',), ('100000AIDOGE/USDT:USDT',), ('100000BABYDOGE/USDT:USDT',), ('100000 SHIB/USD:USD',), ('10000LADYS/USDT',), ('10000 LADYS/USDT:USDT',), ('1000BEN/USDT:USDT',), ('1000BONK/USDT',), ('1000BONK/USDT:USDT',), ('1000BRISE/USDT',), ('1000BTT/USDT:USDT',), ('1000CAW/USDT:USDT',), ('1000 DENT/USD:USD',), ('1000DOGE2/USDT:USDT',), ('1000FLOKI/USDT',), ('1000 FLOKI/USDT:USDT',), ('1000FLOKI/USDT:USDT',), ('1000 HOT/USD:USD',), '...(remaining elements truncated)...']>"
      ]
     },
     "execution_count": 60,
     "metadata": {},
     "output_type": "execute_result"
    }
   ],
   "source": [
    "CryptoCurrencyPair.objects.only(\"symbol\").values_list(\"symbol\").distinct(\"symbol\")"
   ]
  },
  {
   "cell_type": "code",
   "execution_count": null,
   "id": "5bd39640",
   "metadata": {},
   "outputs": [],
   "source": []
  }
 ],
 "metadata": {
  "kernelspec": {
   "display_name": "Django Kernel",
   "language": "python",
   "name": "django_extensions"
  },
  "language_info": {
   "codemirror_mode": {
    "name": "ipython",
    "version": 3
   },
   "file_extension": ".py",
   "mimetype": "text/x-python",
   "name": "python",
   "nbconvert_exporter": "python",
   "pygments_lexer": "ipython3",
   "version": "3.10.12"
  }
 },
 "nbformat": 4,
 "nbformat_minor": 5
}
